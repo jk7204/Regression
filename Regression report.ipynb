{
 "cells": [
  {
   "cell_type": "code",
   "execution_count": 2,
   "id": "6867132d-baf8-4d19-b326-abd807d7301f",
   "metadata": {},
   "outputs": [
    {
     "ename": "NameError",
     "evalue": "name 'matplotlib' is not defined",
     "output_type": "error",
     "traceback": [
      "\u001b[0;31m---------------------------------------------------------------------------\u001b[0m",
      "\u001b[0;31mNameError\u001b[0m                                 Traceback (most recent call last)",
      "Input \u001b[0;32mIn [2]\u001b[0m, in \u001b[0;36m<cell line: 7>\u001b[0;34m()\u001b[0m\n\u001b[1;32m      5\u001b[0m \u001b[38;5;28;01mfrom\u001b[39;00m \u001b[38;5;21;01msklearn\u001b[39;00m\u001b[38;5;21;01m.\u001b[39;00m\u001b[38;5;21;01mlinear_model\u001b[39;00m \u001b[38;5;28;01mimport\u001b[39;00m LinearRegression, Ridge, Lasso, LogisticRegression\n\u001b[1;32m      6\u001b[0m \u001b[38;5;28;01mfrom\u001b[39;00m \u001b[38;5;21;01msklearn\u001b[39;00m\u001b[38;5;21;01m.\u001b[39;00m\u001b[38;5;21;01mmodel_selection\u001b[39;00m \u001b[38;5;28;01mimport\u001b[39;00m train_test_split\n\u001b[0;32m----> 7\u001b[0m \u001b[43mmatplotlib\u001b[49m\u001b[38;5;241m.\u001b[39m__version__\n",
      "\u001b[0;31mNameError\u001b[0m: name 'matplotlib' is not defined"
     ]
    }
   ],
   "source": [
    "import numpy as np\n",
    "import pandas as pd\n",
    "import matplotlib.pyplot as plt\n",
    "from sklearn import metrics\n",
    "from sklearn.linear_model import LinearRegression, Ridge, Lasso, LogisticRegression\n",
    "from sklearn.model_selection import train_test_split\n",
    "matplotlib.__version__"
   ]
  },
  {
   "cell_type": "code",
   "execution_count": 1,
   "id": "38e7d0ec-0f62-4745-aa3d-a2188bb3a7bf",
   "metadata": {},
   "outputs": [
    {
     "ename": "NameError",
     "evalue": "name 'pd' is not defined",
     "output_type": "error",
     "traceback": [
      "\u001b[0;31m---------------------------------------------------------------------------\u001b[0m",
      "\u001b[0;31mNameError\u001b[0m                                 Traceback (most recent call last)",
      "Input \u001b[0;32mIn [1]\u001b[0m, in \u001b[0;36m<cell line: 1>\u001b[0;34m()\u001b[0m\n\u001b[0;32m----> 1\u001b[0m data \u001b[38;5;241m=\u001b[39m \u001b[43mpd\u001b[49m\u001b[38;5;241m.\u001b[39mread_csv(\u001b[38;5;124m'\u001b[39m\u001b[38;5;124mtechSalaries2017.csv\u001b[39m\u001b[38;5;124m'\u001b[39m)\n\u001b[1;32m      2\u001b[0m \u001b[38;5;28mprint\u001b[39m(data\u001b[38;5;241m.\u001b[39mshape)\n\u001b[1;32m      4\u001b[0m data\u001b[38;5;241m.\u001b[39mhead()\n",
      "\u001b[0;31mNameError\u001b[0m: name 'pd' is not defined"
     ]
    }
   ],
   "source": [
    "data = pd.read_csv('techSalaries2017.csv')\n",
    "print(data.shape)\n",
    "\n",
    "data.head()"
   ]
  },
  {
   "cell_type": "markdown",
   "id": "6661e390-491d-41d9-bd91-17e3d047916e",
   "metadata": {},
   "source": [
    "## Data Preprocessing"
   ]
  },
  {
   "cell_type": "code",
   "execution_count": 350,
   "id": "ea393a90-912d-4dc8-8b6e-bda49d25fd80",
   "metadata": {},
   "outputs": [
    {
     "data": {
      "text/plain": [
       "True     32272\n",
       "False    30370\n",
       "Name: Education, dtype: int64"
      ]
     },
     "execution_count": 350,
     "metadata": {},
     "output_type": "execute_result"
    }
   ],
   "source": [
    "data['Education'].isna().value_counts()"
   ]
  },
  {
   "cell_type": "code",
   "execution_count": 351,
   "id": "e66b980c-8499-49b9-9765-d6c7e69717c4",
   "metadata": {},
   "outputs": [
    {
     "data": {
      "text/plain": [
       "(30370, 27)"
      ]
     },
     "execution_count": 351,
     "metadata": {},
     "output_type": "execute_result"
    }
   ],
   "source": [
    "data = data[~(data['Education'].isna()==True)]\n",
    "data.shape"
   ]
  },
  {
   "cell_type": "code",
   "execution_count": 352,
   "id": "ebe95832-77e4-44c7-aab4-9b8196b71e6a",
   "metadata": {},
   "outputs": [
    {
     "name": "stdout",
     "output_type": "stream",
     "text": [
      "(27766, 20) (27766,)\n"
     ]
    }
   ],
   "source": [
    "X = data.iloc[:,7:20] #ignore variable 1 to 7\n",
    "X = pd.concat([X, data.iloc[:,22:27].reindex(X.index)], axis=1)\n",
    "X = pd.concat([X, data.iloc[:,3].reindex(X.index)], axis=1)\n",
    "X = X.dropna()\n",
    "\n",
    "y = X[\"totalyearlycompensation\"]\n",
    "X = X.drop(columns = \"totalyearlycompensation\")\n",
    "X = pd.concat([X, pd.get_dummies(X['gender']).reindex(X.index)], axis=1)\n",
    "X = X.drop(columns = 'gender')\n",
    "df = pd.concat([X, y.reindex(X.index)], axis=1)\n",
    "print(X.shape, y.shape)"
   ]
  },
  {
   "cell_type": "markdown",
   "id": "19f1ae17-3247-40fe-ba4c-9cd6527266d2",
   "metadata": {},
   "source": [
    "## Question 1\n",
    "\n",
    "Using multiple linear regression: What is the best predictor of total annual\n",
    "compensation, how much variance is explained by this predictor vs. the full multiple\n",
    "regression model?"
   ]
  },
  {
   "cell_type": "code",
   "execution_count": 353,
   "id": "5c6bca6c-7ea7-4044-a003-c5410e956789",
   "metadata": {},
   "outputs": [
    {
     "data": {
      "text/plain": [
       "yearsofexperience    0.161229\n",
       "SAT                  0.115720\n",
       "GPA                  0.097223\n",
       "Age                  0.062144\n",
       "Bachelors_Degree     0.029756\n",
       "yearsatcompany       0.024605\n",
       "Doctorate_Degree     0.023700\n",
       "Masters_Degree       0.011689\n",
       "Race_Asian           0.004533\n",
       "Female               0.001636\n",
       "Male                 0.001326\n",
       "Race_Black           0.000724\n",
       "Race_Hispanic        0.000326\n",
       "Other                0.000285\n",
       "Highschool           0.000259\n",
       "Race_White           0.000112\n",
       "Height               0.000070\n",
       "Zodiac               0.000060\n",
       "Some_College         0.000039\n",
       "Race_Two_Or_More     0.000009\n",
       "dtype: float64"
      ]
     },
     "execution_count": 353,
     "metadata": {},
     "output_type": "execute_result"
    }
   ],
   "source": [
    "r2_single = pd.Series(dtype = 'float64')\n",
    "\n",
    "for (Name, col) in X.items():\n",
    "    model = LinearRegression()\n",
    "    model.fit(col.values.reshape(-1,1), y)\n",
    "    r2_single[Name] = model.score(col.values.reshape(-1,1), y)\n",
    "    \n",
    "r2_single.sort_values(ascending = False, inplace = True)\n",
    "r2_single"
   ]
  },
  {
   "cell_type": "code",
   "execution_count": 354,
   "id": "d6a26728-541b-4acc-8d4a-2467628bb6bd",
   "metadata": {},
   "outputs": [
    {
     "name": "stdout",
     "output_type": "stream",
     "text": [
      "All Feature Regression R-squared 0.2766767567782197\n"
     ]
    },
    {
     "data": {
      "text/plain": [
       "Text(0.5, 1.0, 'All Feature Regression R^2 = 0.277')"
      ]
     },
     "execution_count": 354,
     "metadata": {},
     "output_type": "execute_result"
    },
    {
     "data": {
      "image/png": "[encoded data removed]",
      "text/plain": [
       "<Figure size 432x288 with 1 Axes>"
      ]
     },
     "metadata": {
      "needs_background": "light"
     },
     "output_type": "display_data"
    }
   ],
   "source": [
    "model  = LinearRegression().fit(X,y)\n",
    "r2_all = model.score(X,y)\n",
    "print(\"All Feature Regression R-squared\",r2_all)\n",
    "\n",
    "yHat = model.predict(X)\n",
    "plt.plot(yHat,y,'x',markersize=.75)\n",
    "\n",
    "plt.xlabel('Prediction') \n",
    "plt.ylabel('Actual')  \n",
    "plt.title('All Feature Regression R^2 = {:.3f}'.format(r2_all))"
   ]
  },
  {
   "cell_type": "code",
   "execution_count": 355,
   "id": "0ae9ccdd-8f6f-4bcc-a97a-b28f9e1eed8f",
   "metadata": {},
   "outputs": [],
   "source": [
    "train_X, test_X , train_y, test_y = train_test_split(X, y, test_size=0.5, random_state=0)"
   ]
  },
  {
   "cell_type": "code",
   "execution_count": 356,
   "id": "85b91ba7-aacb-426d-b479-a24b6ec60d62",
   "metadata": {},
   "outputs": [
    {
     "data": {
      "text/plain": [
       "yearsofexperience    0.161641\n",
       "SAT                  0.115662\n",
       "GPA                  0.096742\n",
       "Age                  0.062909\n",
       "Bachelors_Degree     0.029518\n",
       "yearsatcompany       0.027333\n",
       "Doctorate_Degree     0.015772\n",
       "Masters_Degree       0.013200\n",
       "Race_Asian           0.004178\n",
       "Female               0.001932\n",
       "Male                 0.001617\n",
       "Race_Black           0.000565\n",
       "Highschool           0.000275\n",
       "Race_Hispanic        0.000242\n",
       "Race_White           0.000141\n",
       "Zodiac               0.000069\n",
       "Other                0.000032\n",
       "Height              -0.000040\n",
       "Race_Two_Or_More    -0.000063\n",
       "Some_College        -0.000308\n",
       "dtype: float64"
      ]
     },
     "execution_count": 356,
     "metadata": {},
     "output_type": "execute_result"
    }
   ],
   "source": [
    "r2_test = pd.Series(dtype = 'float64')\n",
    "\n",
    "for (Name, colData) in train_X.items():\n",
    "    model = LinearRegression()\n",
    "    model.fit(colData.values.reshape(-1,1), train_y)\n",
    "    r2_test[Name] = model.score(test_X[Name].values.reshape(-1,1), test_y)\n",
    "    \n",
    "r2_test.sort_values(ascending=False)"
   ]
  },
  {
   "cell_type": "code",
   "execution_count": 357,
   "id": "d5501169-75bf-4b19-bff7-16950eb73590",
   "metadata": {},
   "outputs": [
    {
     "name": "stdout",
     "output_type": "stream",
     "text": [
      "All Feature Regression R-squared for test set 0.2662883995801397\n"
     ]
    },
    {
     "data": {
      "text/plain": [
       "Text(0.5, 1.0, 'All Feature Regression R^2 (Split) = 0.266')"
      ]
     },
     "execution_count": 357,
     "metadata": {},
     "output_type": "execute_result"
    },
    {
     "data": {
      "image/png": "[encoded data removed]",
      "text/plain": [
       "<Figure size 432x288 with 1 Axes>"
      ]
     },
     "metadata": {
      "needs_background": "light"
     },
     "output_type": "display_data"
    }
   ],
   "source": [
    "model  = LinearRegression().fit(train_X, train_y)\n",
    "r2_alltest = model.score(test_X, test_y)\n",
    "print(\"All Feature Regression R-squared for test set\",r2_alltest)\n",
    "\n",
    "yHat_split = model.predict(test_X)\n",
    "plt.plot(yHat_split, test_y, 'x', markersize=.75)\n",
    "\n",
    "plt.xlabel('Prediction') \n",
    "plt.ylabel('Actual')  \n",
    "plt.title('All Feature Regression R^2 (Split) = {:.3f}'.format(r2_alltest))"
   ]
  },
  {
   "cell_type": "markdown",
   "id": "7f55d612-dacd-42c5-85eb-639beea2d57b",
   "metadata": {},
   "source": [
    "## Question 2\n",
    "\n",
    "Using ridge regression to do the same as in 1): How does the model change or improve compared to OLS? What is the optimal lambda?"
   ]
  },
  {
   "cell_type": "code",
   "execution_count": 358,
   "id": "b51fcce8-c334-46d7-815d-391432bf5fdd",
   "metadata": {},
   "outputs": [
    {
     "data": {
      "image/png": "[encoded data removed]",
      "text/plain": [
       "<Figure size 432x288 with 1 Axes>"
      ]
     },
     "metadata": {
      "needs_background": "light"
     },
     "output_type": "display_data"
    },
    {
     "name": "stdout",
     "output_type": "stream",
     "text": [
      "Optimal lambda: 20.0\n"
     ]
    }
   ],
   "source": [
    "lambdas = np.linspace(-20,20,201)\n",
    "\n",
    "cont = np.empty([len(lambdas),2])*np.NaN # [lambda error]\n",
    "for ii in range(len(lambdas)):\n",
    "    ridge = Ridge(alpha=lambdas[ii]).fit(train_X, train_y)\n",
    "    cont[ii,0] = lambdas[ii]\n",
    "    error = metrics.mean_squared_error(test_y,ridge.predict(test_X),squared=False)\n",
    "    cont[ii,1] = error\n",
    "    \n",
    "opt_ridge = lambdas[np.argmax(cont[:,1]==np.min(cont[:,1]))]\n",
    "\n",
    "plt.plot(cont[:,0],cont[:,1])\n",
    "plt.axvline(x=opt_ridge, linestyle='--', color='black', label='optimal lambda')\n",
    "plt.xlabel('Lambda')\n",
    "plt.ylabel('RMSE')\n",
    "plt.title('Ridge Regression')\n",
    "plt.show()\n",
    "print('Optimal lambda:',opt_ridge)"
   ]
  },
  {
   "cell_type": "code",
   "execution_count": 359,
   "id": "08e0e5d1-a956-471b-8b67-359ae7afff96",
   "metadata": {},
   "outputs": [
    {
     "data": {
      "text/plain": [
       "yearsofexperience    0.161641\n",
       "SAT                  0.115662\n",
       "GPA                  0.096659\n",
       "Age                  0.062909\n",
       "Bachelors_Degree     0.029514\n",
       "yearsatcompany       0.027332\n",
       "Doctorate_Degree     0.016070\n",
       "Masters_Degree       0.013179\n",
       "Race_Asian           0.004181\n",
       "Female               0.001925\n",
       "Male                 0.001610\n",
       "Race_Black           0.000575\n",
       "Highschool           0.000248\n",
       "Race_Hispanic        0.000233\n",
       "Race_White           0.000140\n",
       "Other                0.000105\n",
       "Zodiac               0.000069\n",
       "Height              -0.000040\n",
       "Race_Two_Or_More    -0.000060\n",
       "Some_College        -0.000270\n",
       "dtype: float64"
      ]
     },
     "execution_count": 359,
     "metadata": {},
     "output_type": "execute_result"
    }
   ],
   "source": [
    "ridgeR2 = pd.Series(dtype = 'float64')\n",
    "for (Name,colData) in train_X.items():\n",
    "    ridgeModel = Ridge(alpha=opt_ridge)\n",
    "    ridgeModel.fit(colData.values.reshape(-1,1), train_y)\n",
    "    ridgeR2[Name] = ridgeModel.score(test_X[Name].values.reshape(-1,1), test_y)\n",
    "    \n",
    "ridgeR2.sort_values(ascending=False)"
   ]
  },
  {
   "cell_type": "code",
   "execution_count": 360,
   "id": "da690197-ffd8-4481-8b2c-1907c927d3f1",
   "metadata": {},
   "outputs": [
    {
     "name": "stdout",
     "output_type": "stream",
     "text": [
      "All Feature Regression R-squared for test set 0.2665877304101738\n"
     ]
    },
    {
     "data": {
      "text/plain": [
       "Text(0.5, 1.0, 'All Feature Regression R^2 (Ridge) = 0.267')"
      ]
     },
     "execution_count": 360,
     "metadata": {},
     "output_type": "execute_result"
    },
    {
     "data": {
      "image/png": "[encoded data removed]",
      "text/plain": [
       "<Figure size 432x288 with 1 Axes>"
      ]
     },
     "metadata": {
      "needs_background": "light"
     },
     "output_type": "display_data"
    }
   ],
   "source": [
    "model_ridge = Ridge(alpha=opt_ridge).fit(train_X, train_y)\n",
    "r2_allridge = model_ridge.score(test_X, test_y)\n",
    "print(\"All Feature Regression R-squared for test set\",r2_allridge)\n",
    "\n",
    "yHat_ridge = model_ridge.predict(test_X)\n",
    "plt.plot(yHat_ridge, test_y, 'x', markersize=.75)\n",
    "plt.xlabel('Prediction') \n",
    "plt.ylabel('Actual')  \n",
    "plt.title('All Feature Regression R^2 (Ridge) = {:.3f}'.format(r2_allridge))"
   ]
  },
  {
   "cell_type": "markdown",
   "id": "bcbb15db-f53b-4244-81cf-24d82e8411f5",
   "metadata": {},
   "source": [
    "## Question 3\n",
    "\n",
    "Using Lasso regression to do the same as in 1): How does the model change now? How many of the predictor betas are shrunk to exactly 0? What is the optimal lambda now?"
   ]
  },
  {
   "cell_type": "code",
   "execution_count": 361,
   "id": "56f698c7-1a1a-440b-a9b3-5b79afa4cb3c",
   "metadata": {},
   "outputs": [
    {
     "data": {
      "image/png": "[encoded data removed]",
      "text/plain": [
       "<Figure size 432x288 with 1 Axes>"
      ]
     },
     "metadata": {
      "needs_background": "light"
     },
     "output_type": "display_data"
    },
    {
     "name": "stdout",
     "output_type": "stream",
     "text": [
      "Optimal lambda: 20.0\n"
     ]
    }
   ],
   "source": [
    "import warnings\n",
    "warnings.filterwarnings('ignore') \n",
    "\n",
    "X_train, X_test , y_train, y_test = train_test_split(X, y, test_size=0.5, random_state=0)\n",
    "\n",
    "lambdas = np.linspace(-20,20,201)\n",
    "cont = np.empty([len(lambdas),2])*np.NaN # [lambda error]\n",
    "\n",
    "for ii in range(len(lambdas)):\n",
    "    lasso = Lasso(alpha=lambdas[ii]).fit(X_train, y_train)\n",
    "    cont[ii,0] = lambdas[ii]\n",
    "    error = metrics.mean_squared_error(y_test,lasso.predict(X_test),squared=False)\n",
    "    cont[ii,1] = error\n",
    "\n",
    "opt_lasso = lambdas[np.argmax(cont[:,1]==np.min(cont[:,1]))]\n",
    "\n",
    "plt.plot(cont[:,0],cont[:,1])\n",
    "plt.axvline(x=opt_lasso, linestyle='--', color='black', label='optimal lambda')\n",
    "plt.xlabel('Lambda')\n",
    "plt.ylabel('RMSE')\n",
    "plt.title('Lasso Regression')\n",
    "plt.show()\n",
    "print('Optimal lambda:', opt_lasso)"
   ]
  },
  {
   "cell_type": "code",
   "execution_count": 362,
   "id": "6b48dc71-deec-4bbb-91ec-9a23438c3417",
   "metadata": {},
   "outputs": [
    {
     "data": {
      "text/plain": [
       "yearsofexperience    0.161641\n",
       "SAT                  0.115662\n",
       "GPA                  0.096736\n",
       "Age                  0.062909\n",
       "Bachelors_Degree     0.029517\n",
       "yearsatcompany       0.027330\n",
       "Doctorate_Degree     0.015817\n",
       "Masters_Degree       0.013189\n",
       "Race_Asian           0.004180\n",
       "Female               0.001924\n",
       "Male                 0.001608\n",
       "Race_Black           0.000572\n",
       "Highschool           0.000222\n",
       "Race_Hispanic        0.000199\n",
       "Race_White           0.000137\n",
       "Other                0.000071\n",
       "Zodiac               0.000068\n",
       "Height              -0.000039\n",
       "Race_Two_Or_More    -0.000042\n",
       "Some_College        -0.000236\n",
       "dtype: float64"
      ]
     },
     "execution_count": 362,
     "metadata": {},
     "output_type": "execute_result"
    }
   ],
   "source": [
    "LassoR2 = pd.Series(dtype = 'float64')\n",
    "\n",
    "for (Name,colData) in X_train.items():\n",
    "    lassoModel = Lasso(alpha=opt_lasso)\n",
    "    lassoModel.fit(colData.values.reshape(-1,1), y_train)\n",
    "    LassoR2[Name] = lassoModel.score(X_test[Name].values.reshape(-1,1), y_test)\n",
    "\n",
    "LassoR2.sort_values(ascending=False)"
   ]
  },
  {
   "cell_type": "code",
   "execution_count": 363,
   "id": "d96a9bfc-ad9d-4b28-aa2e-d5ff7abb7706",
   "metadata": {},
   "outputs": [
    {
     "name": "stdout",
     "output_type": "stream",
     "text": [
      "Index(['yearsofexperience', 'yearsatcompany', 'Masters_Degree',\n",
      "       'Bachelors_Degree', 'Doctorate_Degree', 'Highschool', 'Some_College',\n",
      "       'Race_Asian', 'Race_White', 'Race_Two_Or_More', 'Race_Black',\n",
      "       'Race_Hispanic', 'Age', 'Height', 'Zodiac', 'SAT', 'GPA', 'Female',\n",
      "       'Male', 'Other'],\n",
      "      dtype='object')\n",
      "[ 9.08648700e+03 -3.07204813e+03  7.72321740e+03 -1.52394548e+04\n",
      "  8.69247621e+04 -1.84799980e+04 -3.04018478e+04 -1.13977138e+04\n",
      " -7.44367744e+03  3.52094377e+03 -1.32341219e+04 -3.43641729e+03\n",
      " -7.62247925e+01 -1.28305039e+02  2.87614084e+02  2.99868729e+02\n",
      "  4.80929602e+03 -6.78769904e+02  0.00000000e+00  2.97363432e+04]\n",
      "\n",
      "All Feature Regression R-squared for test set 0.26633029352944815\n"
     ]
    },
    {
     "data": {
      "text/plain": [
       "Text(0.5, 1.0, 'All Feature Regression R^2 (Lasso) = 0.266')"
      ]
     },
     "execution_count": 363,
     "metadata": {},
     "output_type": "execute_result"
    },
    {
     "data": {
      "image/png": "[encoded data removed]",
      "text/plain": [
       "<Figure size 432x288 with 1 Axes>"
      ]
     },
     "metadata": {
      "needs_background": "light"
     },
     "output_type": "display_data"
    }
   ],
   "source": [
    "model_lasso = Lasso(alpha=opt_lasso).fit(X_train, y_train)\n",
    "r2_alllasso = model_lasso.score(X_test, y_test)\n",
    "print(X_train.columns)\n",
    "print(model_lasso.coef_)\n",
    "print()\n",
    "print(\"All Feature Regression R-squared for test set\",r2_alllasso)\n",
    "\n",
    "yHat_lasso = model_lasso.predict(X_test)\n",
    "plt.plot(yHat_lasso, y_test, 'x', markersize=.75)\n",
    "plt.xlabel('Prediction') \n",
    "plt.ylabel('Actual')  \n",
    "plt.title('All Feature Regression R^2 (Lasso) = {:.3f}'.format(r2_alllasso))"
   ]
  },
  {
   "cell_type": "markdown",
   "id": "f0b99099-3bfe-465b-a6fa-6d735486b3ed",
   "metadata": {},
   "source": [
    "## Question 4\n",
    "\n",
    "There is controversy as to the existence of a male/female gender pay gap in tech job compensation. Build a logistic regression model (with gender as the outcome variable) to see if there is an appreciable beta associated with total annual compensation with and without controlling for other factors."
   ]
  },
  {
   "cell_type": "code",
   "execution_count": 375,
   "id": "f8aea83d-a573-4bd3-928b-68152dd9e2ec",
   "metadata": {},
   "outputs": [
    {
     "name": "stdout",
     "output_type": "stream",
     "text": [
      "Index(['yearsofexperience', 'yearsatcompany', 'Masters_Degree',\n",
      "       'Bachelors_Degree', 'Doctorate_Degree', 'Highschool', 'Some_College',\n",
      "       'Race_Asian', 'Race_White', 'Race_Two_Or_More', 'Race_Black',\n",
      "       'Race_Hispanic', 'Age', 'Height', 'Zodiac', 'SAT', 'GPA', 'paylevel'],\n",
      "      dtype='object')\n",
      "[[-2.85997607e-02 -3.31015564e-03 -5.57029294e-01 -5.64049901e-01\n",
      "  -8.07905795e-01 -1.79798084e+00 -9.03298097e-01  7.58753200e-02\n",
      "   1.15551971e-01  1.86868140e-01  5.67980660e-01 -2.97754796e-02\n",
      "  -9.86329754e-04  9.74030273e-03 -1.73700534e-03  1.51574910e-04\n",
      "  -1.78234032e-02 -3.35060462e-02]]\n",
      "\n"
     ]
    },
    {
     "data": {
      "text/plain": [
       "0.5035882566147155"
      ]
     },
     "execution_count": 375,
     "metadata": {},
     "output_type": "execute_result"
    }
   ],
   "source": [
    "df_gender = df[df['Other'] == 0]\n",
    "\n",
    "X_gender = df_gender.drop(['Female', 'Male', 'Other'], axis = 1, inplace = False)\n",
    "y_gender = df_gender['Female']\n",
    "\n",
    "Xgen_train, Xgen_test, ygen_train, ygen_test = train_test_split(X_gender, y_gender, test_size = 0.5, random_state = 0)\n",
    "\n",
    "logreg = LogisticRegression(solver='newton-cg', class_weight='balanced')\n",
    "logreg.fit(Xgen_train, ygen_train)\n",
    "print(Xgen_train.columns)\n",
    "print(logreg.coef_)\n",
    "print()\n",
    "ygen_pred = logreg.predict(Xgen_test)\n",
    "logreg.score(Xgen_test, ygen_test)"
   ]
  },
  {
   "cell_type": "code",
   "execution_count": 365,
   "id": "f5a800ad-ccc7-4b3b-8247-beba78af977c",
   "metadata": {},
   "outputs": [
    {
     "name": "stdout",
     "output_type": "stream",
     "text": [
      "[0 1] [6283 7512]\n"
     ]
    }
   ],
   "source": [
    "unique, counts = np.unique(ygen_pred, return_counts=True)\n",
    "print(unique, counts)"
   ]
  },
  {
   "cell_type": "code",
   "execution_count": 366,
   "id": "5aa13e3a-5b95-45d7-8f4b-79af1b0931f6",
   "metadata": {},
   "outputs": [
    {
     "name": "stdout",
     "output_type": "stream",
     "text": [
      "[[-1.01769401e-06]]\n",
      "\n"
     ]
    },
    {
     "data": {
      "text/plain": [
       "0.46850308082638636"
      ]
     },
     "execution_count": 366,
     "metadata": {},
     "output_type": "execute_result"
    }
   ],
   "source": [
    "Xnew_gen = df_gender[\"totalyearlycompensation\"]\n",
    "\n",
    "Xngen_train, Xngen_test, ygen_train, ygen_test = train_test_split(Xnew_gen, y_gender, test_size = 0.5, random_state = 0)\n",
    "\n",
    "lognew = LogisticRegression(solver='newton-cg', class_weight='balanced')\n",
    "lognew.fit(Xngen_train.values.reshape(-1, 1), ygen_train)\n",
    "print(lognew.coef_)\n",
    "print()\n",
    "ygen_pred = lognew.predict(Xngen_test.values.reshape(-1, 1))\n",
    "lognew.score(Xngen_test.values.reshape(-1, 1), ygen_test)"
   ]
  },
  {
   "cell_type": "code",
   "execution_count": 367,
   "id": "dd1e6b6c-27e7-44fa-ad25-cd5c27b9e3e9",
   "metadata": {},
   "outputs": [
    {
     "name": "stdout",
     "output_type": "stream",
     "text": [
      "[0 1] [5853 7942]\n"
     ]
    }
   ],
   "source": [
    "unique, counts = np.unique(ygen_pred, return_counts=True)\n",
    "print(unique, counts)"
   ]
  },
  {
   "cell_type": "markdown",
   "id": "72eedb7b-1ad4-401e-b990-4be65dcb05c6",
   "metadata": {},
   "source": [
    "## Question 5\n",
    "\n",
    "Build a logistic regression model to see if you can predict high and low pay from years of relevant experience, age, height, SAT score and GPA, respectively."
   ]
  },
  {
   "cell_type": "code",
   "execution_count": 368,
   "id": "2f379b4b-2790-444f-b76e-582f98651b74",
   "metadata": {},
   "outputs": [
    {
     "name": "stdout",
     "output_type": "stream",
     "text": [
      "Accuracy for yearsofexperience: 0.6508822470291682\n",
      "Accuracy for Age: 0.5729204177169608\n",
      "Accuracy for Height: 0.518545192653943\n",
      "Accuracy for SAT: 0.6029888368743248\n",
      "Accuracy for GPA: 0.5941663665826431\n"
     ]
    }
   ],
   "source": [
    "med = df['totalyearlycompensation'].median()\n",
    "df['paylevel'] = np.where(df['totalyearlycompensation'] > med, 1, 0)\n",
    "df.drop(['totalyearlycompensation'], axis = 1, inplace = True)\n",
    "\n",
    "X_log = df.drop(['paylevel'], axis = 1, inplace = False)\n",
    "y_log = df['paylevel']\n",
    "Xl_train, Xl_test, yl_train, yl_test = train_test_split(X_log, y_log, test_size = 0.2, random_state = 0)\n",
    "\n",
    "variable = ['yearsofexperience', 'Age', 'Height', 'SAT', 'GPA']\n",
    "for v in variable:\n",
    "    log = LogisticRegression().fit(Xl_train[v].values.reshape(-1, 1), yl_train)\n",
    "    y_pred = log.predict(Xl_test[v].values.reshape(-1, 1))\n",
    "    print(f'Accuracy for {v}: {log.score(Xl_test[v].values.reshape(-1, 1), yl_test)}')"
   ]
  },
  {
   "cell_type": "markdown",
   "id": "98603a32-d03a-4019-93ed-0e21827f0df7",
   "metadata": {},
   "source": [
    "## Extra Credit 1\n",
    "\n",
    "Is salary, height or age normally distributed? Does this surprise you? Why or why not?"
   ]
  },
  {
   "cell_type": "code",
   "execution_count": 369,
   "id": "aea05033-0b87-4baa-a420-a3c0330e96c9",
   "metadata": {},
   "outputs": [
    {
     "data": {
      "text/plain": [
       "Text(0.5, 1.0, 'Age')"
      ]
     },
     "execution_count": 369,
     "metadata": {},
     "output_type": "execute_result"
    },
    {
     "data": {
      "image/png": "[encoded data removed]",
      "text/plain": [
       "<Figure size 360x720 with 3 Axes>"
      ]
     },
     "metadata": {
      "needs_background": "light"
     },
     "output_type": "display_data"
    }
   ],
   "source": [
    "fig, (axs0, axs1, axs2) = plt.subplots(3, 1, sharey=True, figsize=(5,10))\n",
    "\n",
    "salary = data[\"totalyearlycompensation\"]\n",
    "height = data[\"Height\"]\n",
    "age = data[\"Age\"]\n",
    "\n",
    "axs0.hist(salary, bins=20)\n",
    "axs0.set_title(\"Salary\")\n",
    "\n",
    "axs1.hist(height, bins=20)\n",
    "axs1.set_title(\"Height\")\n",
    "    \n",
    "axs2.hist(age, bins=20)\n",
    "axs2.set_title(\"Age\")"
   ]
  },
  {
   "cell_type": "markdown",
   "id": "f5ed9f01-cb96-43a2-a215-a5605ea03eaf",
   "metadata": {},
   "source": [
    "## Extra Credit 2\n",
    "\n",
    "Tell us something interesting about this dataset that is not already covered by the questions above and that is not obvious."
   ]
  },
  {
   "cell_type": "code",
   "execution_count": 383,
   "id": "4b3c4ecb-ef3e-4b66-b91d-6aaaf9eae078",
   "metadata": {},
   "outputs": [
    {
     "data": {
      "text/plain": [
       "Amazon            3665\n",
       "Microsoft         2310\n",
       "Google            1917\n",
       "Facebook          1431\n",
       "Apple              915\n",
       "                  ... \n",
       "BazaarVoice          1\n",
       "zoominfo             1\n",
       "Pagerduty            1\n",
       "beyond limits        1\n",
       "Coupa software       1\n",
       "Name: company, Length: 1379, dtype: int64"
      ]
     },
     "execution_count": 383,
     "metadata": {},
     "output_type": "execute_result"
    }
   ],
   "source": [
    "data['company'].value_counts()"
   ]
  },
  {
   "cell_type": "code",
   "execution_count": 371,
   "id": "8080edd8-37e1-4fce-95bf-8efbc873d6cc",
   "metadata": {},
   "outputs": [
    {
     "data": {
      "text/plain": [
       "Software Engineer               19216\n",
       "Product Manager                  2197\n",
       "Software Engineering Manager     1526\n",
       "Data Scientist                   1410\n",
       "Hardware Engineer                1282\n",
       "Technical Program Manager         839\n",
       "Product Designer                  781\n",
       "Management Consultant             601\n",
       "Solution Architect                549\n",
       "Business Analyst                  521\n",
       "Marketing                         423\n",
       "Mechanical Engineer               320\n",
       "Sales                             256\n",
       "Recruiter                         250\n",
       "Human Resources                   199\n",
       "Name: title, dtype: int64"
      ]
     },
     "execution_count": 371,
     "metadata": {},
     "output_type": "execute_result"
    }
   ],
   "source": [
    "data['title'].value_counts()"
   ]
  },
  {
   "cell_type": "code",
   "execution_count": 372,
   "id": "8a31dffe-4b83-4881-aafc-97dcff20a200",
   "metadata": {},
   "outputs": [
    {
     "data": {
      "text/plain": [
       "Seattle, WA                  3676\n",
       "San Francisco, CA            2682\n",
       "New York, NY                 2167\n",
       "Redmond, WA                  1105\n",
       "San Jose, CA                 1031\n",
       "                             ... \n",
       "Florianopolis, SC, Brazil       1\n",
       "Fulton, MD                      1\n",
       "Moscow Mills, MO                1\n",
       "Louisville, CO                  1\n",
       "Pasir Ris, SG, Singapore        1\n",
       "Name: location, Length: 843, dtype: int64"
      ]
     },
     "execution_count": 372,
     "metadata": {},
     "output_type": "execute_result"
    }
   ],
   "source": [
    "data['location'].value_counts()"
   ]
  },
  {
   "cell_type": "code",
   "execution_count": 373,
   "id": "bd8756ad-7048-4246-86da-0503ce572fe8",
   "metadata": {},
   "outputs": [
    {
     "data": {
      "text/plain": [
       "Male      22679\n",
       "Female     4910\n",
       "Other       177\n",
       "Name: gender, dtype: int64"
      ]
     },
     "execution_count": 373,
     "metadata": {},
     "output_type": "execute_result"
    }
   ],
   "source": [
    "data['gender'].value_counts()"
   ]
  }
 ],
 "metadata": {
  "kernelspec": {
   "display_name": "Python 3 (ipykernel)",
   "language": "python",
   "name": "python3"
  },
  "language_info": {
   "codemirror_mode": {
    "name": "ipython",
    "version": 3
   },
   "file_extension": ".py",
   "mimetype": "text/x-python",
   "name": "python",
   "nbconvert_exporter": "python",
   "pygments_lexer": "ipython3",
   "version": "3.9.12"
  }
 },
 "nbformat": 4,
 "nbformat_minor": 5
}
